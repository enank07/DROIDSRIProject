{
  "nbformat": 4,
  "nbformat_minor": 0,
  "metadata": {
    "colab": {
      "provenance": [],
      "machine_shape": "hm",
      "authorship_tag": "ABX9TyM59EEj4eGMpnPHumTmZ/Gi",
      "include_colab_link": true
    },
    "kernelspec": {
      "name": "python3",
      "display_name": "Python 3"
    },
    "language_info": {
      "name": "python"
    }
  },
  "cells": [
    {
      "cell_type": "markdown",
      "metadata": {
        "id": "view-in-github",
        "colab_type": "text"
      },
      "source": [
        "<a href=\"https://colab.research.google.com/github/enank07/DROIDSRIProject/blob/main/Supportvectormachineenankhan.ipynb\" target=\"_parent\"><img src=\"https://colab.research.google.com/assets/colab-badge.svg\" alt=\"Open In Colab\"/></a>"
      ]
    },
    {
      "cell_type": "code",
      "execution_count": null,
      "metadata": {
        "id": "E25QWm3LIwoY"
      },
      "outputs": [],
      "source": [
        "#dependencies\n",
        "!pip install -qU \\\n",
        "    cellxgene-census[tiledbsoma] \\\n",
        "    scanpy anndata tiledbsoma torch torchvision\n",
        "\n",
        "!pip install -q scikit-misc\n",
        "\n",
        "#mounted drive\n",
        "from google.colab import drive\n",
        "drive.mount('/content/drive')\n",
        "DATA_DIR = \"\""
      ]
    },
    {
      "cell_type": "code",
      "source": [
        "import cellxgene_census as cxc\n",
        "import scanpy as sc\n",
        "import numpy as np\n",
        "import pandas as pd\n",
        "import matplotlib.pyplot as plt\n",
        "import warnings\n",
        "import os\n",
        "from pathlib import Path\n",
        "\n",
        "from sklearn.model_selection import GroupShuffleSplit\n",
        "from sklearn.svm import LinearSVC\n",
        "from sklearn.metrics import accuracy_score, classification_report, ConfusionMatrixDisplay\n",
        "\n",
        "warnings.filterwarnings(\"ignore\", category=FutureWarning)\n",
        "warnings.filterwarnings(\"ignore\", category=UserWarning)"
      ],
      "metadata": {
        "id": "8MFt_VwdJwUa"
      },
      "execution_count": null,
      "outputs": []
    },
    {
      "cell_type": "code",
      "source": [
        "OUTPUT_DIR = Path(\"\")\n",
        "OUTPUT_DIR.mkdir(parents=True, exist_ok=True) #directory creation\n",
        "PREPROCESSED_ADATA_PATH = OUTPUT_DIR / \"covid_3kHVG_svm.h5ad\""
      ],
      "metadata": {
        "id": "8vByFhlMKWgA"
      },
      "execution_count": null,
      "outputs": []
    },
    {
      "cell_type": "code",
      "source": [
        "#check data\n",
        "import cellxgene_census as cxc\n",
        "import pandas as pd\n",
        "censusgarbage= \"2025-01-30\"\n",
        "idcollection = \"ddfad306-714d-4cc0-9985-d9072820c530\"\n",
        "with cxc.open_soma(census_version=censusgarbage) as census:\n",
        "    #data pull\n",
        "    ds = (\n",
        "        census[\"census_info\"][\"datasets\"]\n",
        "        .read()\n",
        "        .concat()\n",
        "        .to_pandas() #pandas switch\n",
        "        .set_index(\"soma_joinid\")\n",
        "    )\n",
        "my_ds= ds.query(\"collection_id == @idcollection\")\n",
        "print(my_ds[[\"dataset_id\", \"dataset_title\", \"dataset_total_cell_count\"]])"
      ],
      "metadata": {
        "id": "hpY1_neiQEeH"
      },
      "execution_count": null,
      "outputs": []
    },
    {
      "cell_type": "code",
      "source": [
        "#data maker with AnnData\n",
        "import cellxgene_census as cxc\n",
        "import scanpy as sc\n",
        "\n",
        "censusgarbage = \"2025-01-30\"                            #good id\n",
        "DATASET_ID     = \"c7775e88-49bf-4ba2-a03b-93f00447c958\"\n",
        "\n",
        "with cxc.open_soma(census_version=censusgarbage) as census:\n",
        "    adata = cxc.get_anndata(\n",
        "        census=census,\n",
        "        organism=\"Homo sapiens\",\n",
        "        obs_value_filter=(\n",
        "            f'dataset_id == \"{DATASET_ID}\" '\n",
        "            'and is_primary_data == True'            #all canonical cell\n",
        "        )\n",
        "    )\n",
        "\n",
        "print(adata)\n",
        "print(adata.obs.head())"
      ],
      "metadata": {
        "id": "BrizgSOZQHL5"
      },
      "execution_count": null,
      "outputs": []
    },
    {
      "cell_type": "code",
      "source": [
        "#data preparation\n",
        "import scanpy as sc\n",
        "\n",
        "#normalize data via log1p to remove bias between cells (sum library bias crpa)\n",
        "sc.pp.normalize_total(adata, target_sum=1e4)\n",
        "sc.pp.log1p(adata)\n",
        "adata.layers[\"log1p\"] = adata.X.copy()   #keep copy\n",
        "\n",
        "#VARY IT TO NUANCE (hyperparameters: 3000)\n",
        "sc.pp.highly_variable_genes(\n",
        "    adata, n_top_genes=3_000, layer=\"log1p\", flavor=\"seurat_v3\", subset=True\n",
        ")\n",
        "print(adata)      #check data\n",
        "\n",
        "#save drive\n",
        "adata.write_h5ad(PREPROCESSED_ADATA_PATH, compression=\"gzip\")"
      ],
      "metadata": {
        "id": "OD7f4bp_QLam"
      },
      "execution_count": null,
      "outputs": []
    },
    {
      "cell_type": "code",
      "source": [
        "#data preprocessing\n",
        "X = adata.X.toarray()\n",
        "y_cell = adata.obs[\"cell_type\"].astype(\"category\").cat.codes.values\n",
        "cell_type_labels = adata.obs[\"cell_type\"].astype(\"category\").cat.categories.tolist()\n",
        "y_disease = (adata.obs[\"disease\"] != \"normal\").astype(int).values\n",
        "disease_labels = [\"Normal\", \"COVID-19\"]\n",
        "\n",
        "\n",
        "gss = GroupShuffleSplit(n_splits=1, test_size=0.2, random_state=42)\n",
        "groups = adata.obs[\"donor_id\"].values\n",
        "train_idx, test_idx = next(gss.split(X, y_cell, groups=groups))\n",
        "\n",
        "X_train, X_test = X[train_idx], X[test_idx]\n",
        "y_cell_train, y_cell_test = y_cell[train_idx], y_cell[test_idx]\n",
        "y_disease_train, y_disease_test = y_disease[train_idx], y_disease[test_idx]\n",
        "print(f\"Training set size: {len(X_train)} cells | Test set size: {len(X_test)} cells\")"
      ],
      "metadata": {
        "id": "wxswiGgvJ2w7"
      },
      "execution_count": null,
      "outputs": []
    },
    {
      "cell_type": "code",
      "source": [
        "print(\"\\n\" + \"=\"*50)\n",
        "print(\" Model 1: Cell Type SVM (One-vs-Rest)\")\n",
        "print(\"=\"*50)\n",
        "cell_type_svm = LinearSVC(random_state= , dual=False, max_iter=1000) #choose random state\n",
        "print(\"Training Cell Type SVM...\")\n",
        "cell_type_svm.fit(X_train, y_cell_train)\n",
        "print(\"Training complete. Evaluating...\")\n",
        "y_cell_pred = cell_type_svm.predict(X_test)\n",
        "cell_type_accuracy = accuracy_score(y_cell_test, y_cell_pred)\n",
        "print(f\"\\nOverall Cell Type Accuracy: {cell_type_accuracy:.4f}\")\n",
        "\n",
        "#generate + save classification report\n",
        "report_cell_path = OUTPUT_DIR / \"cell_type_svm_report.txt\"\n",
        "report_cell_str = classification_report(y_cell_test, y_cell_pred, target_names=cell_type_labels, digits=3)\n",
        "with open(report_cell_path, \"w\") as f:\n",
        "    f.write(f\"Overall Cell Type Accuracy: {cell_type_accuracy:.4f}\\n\\n\")\n",
        "    f.write(report_cell_str)\n",
        "print(f\"Full classification report saved to: {report_cell_path}\")"
      ],
      "metadata": {
        "id": "uSln5xcYLGZc"
      },
      "execution_count": null,
      "outputs": []
    },
    {
      "cell_type": "code",
      "source": [
        "print(\"\\n\" + \"=\"*50)\n",
        "print(\"  Model 2: Disease State SVM (Binary)\")\n",
        "print(\"=\"*50)\n",
        "disease_svm = LinearSVC(random_state= , dual=False, max_iter=1000) #choose random state\n",
        "print(\"Training Disease State SVM...\")\n",
        "disease_svm.fit(X_train, y_disease_train)\n",
        "print(\"Training complete. Evaluating...\")\n",
        "y_disease_pred = disease_svm.predict(X_test)\n",
        "disease_accuracy = accuracy_score(y_disease_test, y_disease_pred)\n",
        "print(f\"\\nOverall Disease State Accuracy: {disease_accuracy:.4f}\")"
      ],
      "metadata": {
        "id": "9MvFpC0MLONa"
      },
      "execution_count": null,
      "outputs": []
    },
    {
      "cell_type": "code",
      "source": [
        "import matplotlib.pyplot as plt\n",
        "from sklearn.metrics import ConfusionMatrixDisplay\n",
        "\n",
        "#define path\n",
        "plot_path = OUTPUT_DIR / \"disease_svm_confusion_matrix.png\"\n",
        "print(f\"Generating and saving confusion matrix to: {plot_path}\")\n",
        "\n",
        "#create figure + axis plot\n",
        "fig, ax = plt.subplots(figsize=(6, 6))\n",
        "\n",
        "#conf matrix\n",
        "ConfusionMatrixDisplay.from_estimator(\n",
        "    disease_svm,\n",
        "    X_test,\n",
        "    y_disease_test,\n",
        "    display_labels=disease_labels,\n",
        "    cmap='Blues',  # Use a blue color map\n",
        "    ax=ax\n",
        ")\n",
        "\n",
        "#title\n",
        "ax.set_title(\"Confusion Matrix - Disease State SVM\")\n",
        "\n",
        "#save fig\n",
        "plt.savefig(plot_path, dpi=300, bbox_inches='tight')\n",
        "\n",
        "# Display the plot\n",
        "plt.show()"
      ],
      "metadata": {
        "id": "bkJrr37st8Cy"
      },
      "execution_count": null,
      "outputs": []
    }
  ]
}